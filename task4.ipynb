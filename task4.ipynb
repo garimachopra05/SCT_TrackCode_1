{
 "cells": [
  {
   "cell_type": "code",
   "execution_count": null,
   "id": "45a36948",
   "metadata": {},
   "outputs": [
    {
     "ename": "SyntaxError",
     "evalue": "invalid syntax (3382772932.py, line 31)",
     "output_type": "error",
     "traceback": [
      "  \u001b[36mCell\u001b[39m\u001b[36m \u001b[39m\u001b[32mIn[6]\u001b[39m\u001b[32m, line 31\u001b[39m\n\u001b[31m    \u001b[39m\u001b[31mplt.show() v\u001b[39m\n               ^\n\u001b[31mSyntaxError\u001b[39m\u001b[31m:\u001b[39m invalid syntax\n"
     ]
    }
   ],
   "source": [
    "import pandas as pd\n",
    "import matplotlib.pyplot as plt\n",
    "import seaborn as sns\n",
    "import folium\n",
    "from folium.plugins import HeatMap\n",
    "\n",
    "# Load local CSV file (replace with your own file if needed)\n",
    "df = pd.read_csv('sample_accidents.csv')\n",
    "\n",
    "# Convert 'TIME' (HHMM) to datetime\n",
    "df['Time'] = pd.to_datetime(df['TIME'].astype(str).str.zfill(4), format='%H%M', errors='coerce')\n",
    "df['Hour'] = df['Time'].dt.hour\n",
    "\n",
    "# Preview data\n",
    "print(df.head())\n",
    "\n",
    "# Visualizations\n",
    "plt.figure(figsize=(6,4))\n",
    "sns.countplot(data=df, x='ROADCOND', order=df['ROADCOND'].value_counts().index)\n",
    "plt.title('Accident Counts by Road Condition')\n",
    "plt.show()\n",
    "\n",
    "plt.figure(figsize=(6,4))\n",
    "sns.countplot(data=df, x='WEATHER', order=df['WEATHER'].value_counts().index)\n",
    "plt.title('Accident Counts by Weather')\n",
    "plt.show()\n",
    "\n",
    "plt.figure(figsize=(8,4))\n",
    "sns.countplot(data=df, x='Hour')\n",
    "plt.title('Accidents by Hour')\n",
    "plt.show() \n",
    "\n",
    "# Create map of hotspots\n",
    "map_center = [df['LATITUDE'].mean(), df['LONGITUDE'].mean()]\n",
    "m = folium.Map(location=map_center, zoom_start=13)\n",
    "heat_data = df[['LATITUDE', 'LONGITUDE']].values.tolist()\n",
    "HeatMap(heat_data).add_to(m)\n",
    "m.save('accident_hotspots.html')\n",
    "print(\"Map saved as accident_hotspots.html\")\n"
   ]
  },
  {
   "cell_type": "code",
   "execution_count": null,
   "id": "3349dd9e",
   "metadata": {},
   "outputs": [],
   "source": []
  }
 ],
 "metadata": {
  "kernelspec": {
   "display_name": ".venv",
   "language": "python",
   "name": "python3"
  },
  "language_info": {
   "codemirror_mode": {
    "name": "ipython",
    "version": 3
   },
   "file_extension": ".py",
   "mimetype": "text/x-python",
   "name": "python",
   "nbconvert_exporter": "python",
   "pygments_lexer": "ipython3",
   "version": "3.12.5"
  }
 },
 "nbformat": 4,
 "nbformat_minor": 5
}
