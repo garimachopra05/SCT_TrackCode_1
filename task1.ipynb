{
 "cells": [
  {
   "cell_type": "code",
   "execution_count": null,
   "id": "21321d12",
   "metadata": {},
   "outputs": [],
   "source": [
    "#Importing required libraries\n",
    "import pandas as pd\n",
    "import seaborn as sns\n",
    "import matplotlib.pyplot as plt"
   ]
  },
  {
   "cell_type": "code",
   "execution_count": null,
   "id": "d47ca589",
   "metadata": {},
   "outputs": [
    {
     "name": "stdout",
     "output_type": "stream",
     "text": [
      "                    Country Name Country Code     Indicator Name  \\\n",
      "0                          Aruba          ABW  Population, total   \n",
      "1    Africa Eastern and Southern          AFE  Population, total   \n",
      "2                    Afghanistan          AFG  Population, total   \n",
      "3     Africa Western and Central          AFW  Population, total   \n",
      "4                         Angola          AGO  Population, total   \n",
      "..                           ...          ...                ...   \n",
      "261                       Kosovo          XKX  Population, total   \n",
      "262                  Yemen, Rep.          YEM  Population, total   \n",
      "263                 South Africa          ZAF  Population, total   \n",
      "264                       Zambia          ZMB  Population, total   \n",
      "265                     Zimbabwe          ZWE  Population, total   \n",
      "\n",
      "    Indicator Code         1960         1961         1962         1963  \\\n",
      "0      SP.POP.TOTL      54922.0      55578.0      56320.0      57002.0   \n",
      "1      SP.POP.TOTL  130072080.0  133534923.0  137171659.0  140945536.0   \n",
      "2      SP.POP.TOTL    9035043.0    9214083.0    9404406.0    9604487.0   \n",
      "3      SP.POP.TOTL   97630925.0   99706674.0  101854756.0  104089175.0   \n",
      "4      SP.POP.TOTL    5231654.0    5301583.0    5354310.0    5408320.0   \n",
      "..             ...          ...          ...          ...          ...   \n",
      "261    SP.POP.TOTL     984846.0    1011421.0    1036950.0    1062737.0   \n",
      "262    SP.POP.TOTL    5532301.0    5655232.0    5782221.0    5911135.0   \n",
      "263    SP.POP.TOTL   16440172.0   16908035.0   17418522.0   17954564.0   \n",
      "264    SP.POP.TOTL    3153729.0    3254086.0    3358099.0    3465907.0   \n",
      "265    SP.POP.TOTL    3809389.0    3930401.0    4055959.0    4185877.0   \n",
      "\n",
      "            1964         1965  ...         2015         2016         2017  \\\n",
      "0        57619.0      58190.0  ...     107906.0     108727.0     108735.0   \n",
      "1    144904094.0  149033472.0  ...  607123269.0  623369401.0  640058741.0   \n",
      "2      9814318.0   10036008.0  ...   33831764.0   34700612.0   35688935.0   \n",
      "3    106388440.0  108772632.0  ...  418127845.0  429454743.0  440882906.0   \n",
      "4      5464187.0    5521981.0  ...   28157798.0   29183070.0   30234839.0   \n",
      "..           ...          ...  ...          ...          ...          ...   \n",
      "261    1090270.0    1120168.0  ...    1788274.0    1777568.0    1791019.0   \n",
      "262    6048006.0    6195593.0  ...   31159379.0   32109010.0   33090921.0   \n",
      "263   18511361.0   19089380.0  ...   56723537.0   57259551.0   57635162.0   \n",
      "264    3577017.0    3692086.0  ...   16399089.0   16914423.0   17441320.0   \n",
      "265    4320006.0    4458462.0  ...   14399013.0   14600294.0   14812482.0   \n",
      "\n",
      "            2018         2019         2020         2021         2022  \\\n",
      "0       108908.0     109203.0     108587.0     107700.0     107310.0   \n",
      "1    657801085.0  675950189.0  694446100.0  713090928.0  731821393.0   \n",
      "2     36743039.0   37856121.0   39068979.0   40000412.0   40578842.0   \n",
      "3    452195915.0  463365429.0  474569351.0  485920997.0  497387180.0   \n",
      "4     31297155.0   32375632.0   33451132.0   34532429.0   35635029.0   \n",
      "..           ...          ...          ...          ...          ...   \n",
      "261    1797086.0    1788891.0    1790152.0    1786080.0    1768096.0   \n",
      "262   34085182.0   35111408.0   36134863.0   37140230.0   38222876.0   \n",
      "263   58613001.0   59587885.0   60562381.0   61502603.0   62378410.0   \n",
      "264   17973569.0   18513839.0   19059395.0   19603607.0   20152938.0   \n",
      "265   15034452.0   15271368.0   15526888.0   15797210.0   16069056.0   \n",
      "\n",
      "            2023  2024  \n",
      "0       107359.0   NaN  \n",
      "1    750503764.0   NaN  \n",
      "2     41454761.0   NaN  \n",
      "3    509398589.0   NaN  \n",
      "4     36749906.0   NaN  \n",
      "..           ...   ...  \n",
      "261    1756366.0   NaN  \n",
      "262   39390799.0   NaN  \n",
      "263   63212384.0   NaN  \n",
      "264   20723965.0   NaN  \n",
      "265   16340822.0   NaN  \n",
      "\n",
      "[266 rows x 69 columns]\n"
     ]
    }
   ],
   "source": [
    "#Reading the given csv file for further analysis\n",
    "df = pd.read_csv(\"API_SP.POP.TOTL_DS2_en_csv_v2_382972.csv\")\n",
    "print(df)"
   ]
  },
  {
   "cell_type": "code",
   "execution_count": 4,
   "id": "5c0d6328",
   "metadata": {},
   "outputs": [
    {
     "name": "stdout",
     "output_type": "stream",
     "text": [
      "    Country Name          2001          2002          2003          2004  \\\n",
      "109        India  1.077899e+09  1.097600e+09  1.116803e+09  1.135992e+09   \n",
      "\n",
      "             2005          2006          2007          2008          2009  \\\n",
      "109  1.154676e+09  1.172879e+09  1.190676e+09  1.207931e+09  1.225525e+09   \n",
      "\n",
      "     ...          2015          2016          2017          2018  \\\n",
      "109  ...  1.328024e+09  1.343944e+09  1.359657e+09  1.374659e+09   \n",
      "\n",
      "             2019          2020          2021          2022          2023  \\\n",
      "109  1.389030e+09  1.402618e+09  1.414204e+09  1.425423e+09  1.438070e+09   \n",
      "\n",
      "     2024  \n",
      "109   NaN  \n",
      "\n",
      "[1 rows x 25 columns]\n"
     ]
    }
   ],
   "source": [
    "#Extracting population Data of India from year 2001 to 2023\n",
    "row = df[df[\"Country Name\"]==\"India\"]\n",
    "row = row.drop([\"Indicator Code\",\"Country Code\", \"Indicator Name\" ], axis=1)\n",
    "start = df.columns.get_loc(\"1960\") \n",
    "end = df.columns.get_loc(\"2000\")\n",
    "row = row.drop(columns=df.columns[start:end+1])\n",
    "print(row)"
   ]
  },
  {
   "cell_type": "code",
   "execution_count": 12,
   "id": "92de3408",
   "metadata": {},
   "outputs": [
    {
     "data": {
      "image/png": "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",
      "text/plain": [
       "<Figure size 640x480 with 1 Axes>"
      ]
     },
     "metadata": {},
     "output_type": "display_data"
    }
   ],
   "source": [
    "#Plotting the given data\n",
    "years = [int(col) for col in row.columns if col != \"Country Name\"]\n",
    "population = row[row[\"Country Name\"]==\"India\"].drop(columns=\"Country Name\").values.flatten()\n",
    "sns.barplot(x=years, y=population)\n",
    "plt.xticks(rotation=90)\n",
    "plt.title(\"Population Distribution of India (2001 to 2023)\")\n",
    "plt.xlabel(\"Year\")\n",
    "plt.ylabel(\"Population\")\n",
    "plt.show()\n"
   ]
  },
  {
   "cell_type": "code",
   "execution_count": null,
   "id": "8845e889",
   "metadata": {},
   "outputs": [],
   "source": []
  }
 ],
 "metadata": {
  "kernelspec": {
   "display_name": ".venv",
   "language": "python",
   "name": "python3"
  },
  "language_info": {
   "codemirror_mode": {
    "name": "ipython",
    "version": 3
   },
   "file_extension": ".py",
   "mimetype": "text/x-python",
   "name": "python",
   "nbconvert_exporter": "python",
   "pygments_lexer": "ipython3",
   "version": "3.12.5"
  }
 },
 "nbformat": 4,
 "nbformat_minor": 5
}
#   S C T _ T r a c k C o d e _ 1  
 